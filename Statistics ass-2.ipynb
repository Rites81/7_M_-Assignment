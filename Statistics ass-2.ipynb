{
 "cells": [
  {
   "cell_type": "markdown",
   "id": "3b9c7829",
   "metadata": {},
   "source": [
    "# Assignment"
   ]
  },
  {
   "cell_type": "markdown",
   "id": "e6c6f747",
   "metadata": {},
   "source": [
    "## Q1. What are the three measures of central tendency?\n",
    "\n",
    "(i). Mean\n",
    "(ii). Median\n",
    "(iii). Mode"
   ]
  },
  {
   "cell_type": "markdown",
   "id": "8bd03d85",
   "metadata": {},
   "source": [
    "## Q2. What is the difference between the mean, median, and mode? How are they used to measure the central tendency of a dataset?\n",
    "\n",
    "Ans. Mean (Average): The mean is the sum of all values in a dataset divided by the number of values. It provides a typical or average value and is suitable for normally distributed data. However, it can be sensitive to outliers.\n",
    "\n",
    "Median: The median is the middle value when the data is ordered. It is less affected by extreme values (outliers) and is a good measure of central tendency for skewed data.\n",
    "\n",
    "Mode: The mode is the most frequently occurring value in a dataset. It is useful for categorical or nominal data and can indicate the most common category.\n"
   ]
  },
  {
   "cell_type": "markdown",
   "id": "12101410",
   "metadata": {},
   "source": [
    "## Measure the three measures of central tendency for the given height data:\n",
    "\n",
    " [178,177,176,177,178.2,178,175,179,180,175,178.9,176.2,177,172.5,178,176.5]\n",
    " \n",
    " \n",
    "Ans. Mean (Average):\n",
    "Calculate the mean by summing up all the values and dividing by the number of data points:\n",
    "\n",
    "Mean = (178 + 177 + 176 + 177 + 178.2 + 178 + 175 + 179 + 180 + 175 + 178.9 + 176.2 + 177 + 172.5 + 178 + 176.5) / 16\n",
    "\n",
    "Mean ≈ 177.95 (rounded to two decimal places)\n",
    "\n",
    "Median:\n",
    "To find the median, first, you need to arrange the data in ascending order:\n",
    "\n",
    "172.5, 175, 175, 176, 176, 176.2, 177, 177, 178, 178, 178, 178, 178.2, 178.9, 179, 180\n",
    "\n",
    "Since there are 16 data points, the median is the average of the two middle values:\n",
    "\n",
    "Median = (177 + 178) / 2\n",
    "\n",
    "Median = 177.5\n",
    "\n",
    "Mode:\n",
    "The mode is the value(s) that appear most frequently in the dataset. In this case, the mode is 178.\n",
    "\n",
    "So, for the given height data:\n",
    "\n",
    "Mean ≈ 177.95\n",
    "Median = 177.5\n",
    "Mode = 178"
   ]
  },
  {
   "cell_type": "markdown",
   "id": "12214164",
   "metadata": {},
   "source": [
    "## Q4. Find the standard deviation for the given data:\n",
    "[178,177,176,177,178.2,178,175,179,180,175,178.9,176.2,177,172.5,178,176.5]\n",
    "\n",
    "\n",
    "Ans. Calculate the mean (average) of the data. We already found the mean in a previous response, which is approximately 177.95.\n",
    "\n",
    "Calculate the squared difference between each data point and the mean:\n",
    "\n",
    "(178 - 177.95)^2 ≈ 0.0025\n",
    "(177 - 177.95)^2 ≈ 0.09025\n",
    "(176 - 177.95)^2 ≈ 3.8025\n",
    "(177 - 177.95)^2 ≈ 0.09025\n",
    "(178.2 - 177.95)^2 ≈ 0.0625\n",
    "(178 - 177.95)^2 ≈ 0.0025\n",
    "(175 - 177.95)^2 ≈ 8.9025\n",
    "(179 - 177.95)^2 ≈ 1.1025\n",
    "(180 - 177.95)^2 ≈ 4.2025\n",
    "(175 - 177.95)^2 ≈ 8.9025\n",
    "(178.9 - 177.95)^2 ≈ 0.9025\n",
    "(176.2 - 177.95)^2 ≈ 2.8225\n",
    "(177 - 177.95)^2 ≈ 0.09025\n",
    "(172.5 - 177.95)^2 ≈ 29.2025\n",
    "(178 - 177.95)^2 ≈ 0.0025\n",
    "(176.5 - 177.95)^2 ≈ 2.1025\n",
    "\n",
    "Calculate the average of these squared differences:\n",
    "\n",
    "Variance = (0.0025 + 0.09025 + 3.8025 + 0.09025 + 0.0625 + 0.0025 + 8.9025 + 1.1025 + 4.2025 + 8.9025 + 0.9025 + 2.8225 + 0.09025 + 29.2025 + 0.0025 + 2.1025) / 16\n",
    "\n",
    "Variance ≈ 5.671875\n",
    "\n",
    "Calculate the standard deviation, which is the square root of the variance:\n",
    "\n",
    "Standard Deviation = √(5.671875)\n",
    "\n",
    "Standard Deviation ≈ 2.3797 (rounded to four decimal places)\n",
    "\n",
    "So, the standard deviation for the given height data is approximately 2.3797."
   ]
  },
  {
   "cell_type": "markdown",
   "id": "cee6ff19",
   "metadata": {},
   "source": [
    "## Q5.How are measures of dispersion such as range, variance, and standard deviation used to describe the spread of a dataset? Provide an example.\n",
    "Ans. Range: The range provides the difference between the maximum and minimum values in a dataset, showing the data's overall spread. For instance, in a dataset of daily temperatures, a range of 30 degrees Fahrenheit suggests significant temperature variation.\n",
    "\n",
    "Variance: Variance quantifies the average squared deviation of data points from the mean. It measures the dispersion, e.g., in a dataset of product delivery times, a higher variance may indicate more inconsistent delivery times.\n",
    "\n",
    "Standard Deviation: Standard deviation is the square root of variance and is more interpretable. It measures the average distance between data points and the mean. In a dataset of stock returns, a higher standard deviation implies greater price volatility, which may be a risk factor for investors."
   ]
  },
  {
   "cell_type": "markdown",
   "id": "34652418",
   "metadata": {},
   "source": [
    "## Q6. What is a Venn diagram?\n",
    "Ans. It is a grphical method to represent a values that uses overlapping circles or other shapes to illustrate the relationships and commonalities between different sets or groups of items"
   ]
  },
  {
   "cell_type": "markdown",
   "id": "2ec9b3a3",
   "metadata": {},
   "source": [
    "## Q7. For the two given sets A = (2,3,4,5,6,7) & B = (0,2,6,8,10). Find:\n",
    "(i) A intersection B\n",
    "Ans. 2,6\n",
    "(ii) A union B\n",
    "Ans. 0,2,3,4,5,6,7,8,10\n"
   ]
  },
  {
   "cell_type": "markdown",
   "id": "29e3dab0",
   "metadata": {},
   "source": [
    "## Q8. What do you understand about skewness in data?\n",
    "\n",
    "\n",
    "Skewness in data refers to the measure of the asymmetry or lack of symmetry in the distribution of data points. It indicates whether the data is predominantly concentrated on one side of the mean, making the distribution left-skewed (negatively skewed) or right-skewed (positively skewed). In a normal distribution, skewness is zero, but in real-world data, skewness can help identify the direction and degree of deviation from a symmetric distribution\n"
   ]
  },
  {
   "cell_type": "markdown",
   "id": "37ecb506",
   "metadata": {},
   "source": [
    "## Q9. If a data is right skewed then what will be the position of median with respect to mean?\n",
    "\n",
    "\n",
    "In a right-skewed dataset, the median will be positioned to the left of the mean.\n"
   ]
  },
  {
   "cell_type": "markdown",
   "id": "0ba16271",
   "metadata": {},
   "source": [
    "## Q10.Explain the difference between covariance and correlation. How are these measures used in \n",
    "statistical analysis\n",
    "Covariance measures the degree to which two variables change together. It can be positive or negative, indicating the direction of the relationship but not its strength. Correlation, on the other hand, is a standardized measure that quantifies the strength and direction of the linear relationship between two variables, always ranging from -1 to 1.\n",
    "\n",
    "Covariance is used to assess the direction of the relationship between variables, while correlation provides a more interpretable and comparable measure of the strength of the relationship. Both are used in statistical analysis to understand how two variables are related and to make predictions or decisions based on this relationship."
   ]
  },
  {
   "cell_type": "markdown",
   "id": "f42d90af",
   "metadata": {},
   "source": [
    "## Q11. What is the formula for calculating the sample mean? Provide an example calculation for a dataset.\n",
    "x̄ = Σxi / n\n",
    "\n",
    "\n"
   ]
  },
  {
   "cell_type": "markdown",
   "id": "cf698217",
   "metadata": {},
   "source": [
    "## Q12. For a normal distribution data what is the relationship between its measure of central tendency?\n",
    "Any normal distribution has a graph that is perfectly symmetric about a vertical line through its peak. Therefore, all measures of central tendency (most commonly, the mean, median, and mode) give the same answer: the x -value of the peak.\n"
   ]
  },
  {
   "cell_type": "markdown",
   "id": "d5b2a818",
   "metadata": {},
   "source": [
    "## Q13. How is covariance different from correlation?\n",
    "Covariance indicates the direction of the linear relationship between variables while correlation measures both the strength and direction of the linear relationship between two variables. Correlation is a function of the covariance.\n"
   ]
  },
  {
   "cell_type": "markdown",
   "id": "78165f18",
   "metadata": {},
   "source": [
    "## Q14. How do outliers affect measures of central tendency and dispersion? Provide an example.\n",
    "Outliers can pull the mean towards their extreme values. If there are outliers with large values, the mean can be inflated, while outliers with small values can lower the mean. Median: The median is less affected by outliers compared to the mean.\n"
   ]
  },
  {
   "cell_type": "code",
   "execution_count": null,
   "id": "4479a401",
   "metadata": {},
   "outputs": [],
   "source": []
  }
 ],
 "metadata": {
  "kernelspec": {
   "display_name": "Python 3 (ipykernel)",
   "language": "python",
   "name": "python3"
  },
  "language_info": {
   "codemirror_mode": {
    "name": "ipython",
    "version": 3
   },
   "file_extension": ".py",
   "mimetype": "text/x-python",
   "name": "python",
   "nbconvert_exporter": "python",
   "pygments_lexer": "ipython3",
   "version": "3.10.10"
  }
 },
 "nbformat": 4,
 "nbformat_minor": 5
}
